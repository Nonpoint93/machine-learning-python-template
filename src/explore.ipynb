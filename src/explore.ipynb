{
    "cells": [
        {
            "cell_type": "markdown",
            "metadata": {},
            "source": [
                "# Explore here"
            ]
        },
        {
            "cell_type": "code",
            "execution_count": null,
            "metadata": {},
            "outputs": [],
            "source": [
                "# Your code here\n",
                "\n",
                "from utils import db_connect\n",
                "import pandas as pd\n",
                "import matplotlib.pyplot as plt\n",
                "import seaborn as sns\n",
                "from sklearn.model_selection import train_test_split\n",
                "\n",
                "engine = db_connect()\n",
                "\n",
                "def delete_irrelevant_information(dataframe: pd.DataFrame) -> pd.DataFrame:\n",
                "    dataframe = dataframe.drop(['id', 'host_id', 'name', 'host_name', 'availability_365', 'calculated_host_listings_count', 'neighbourhood', 'latitude', 'longitude', 'last_review'], axis=1)\n",
                "    return dataframe\n",
                "\n",
                "def delete_duplicate_values(dataframe: pd.DataFrame) -> pd.DataFrame:\n",
                "\n",
                "    if dataframe['name'].duplicated().sum() or dataframe['host_id'].duplicated().sum() or dataframe['id'].duplicated().sum():\n",
                "        dataframe = dataframe.drop_duplicates()\n",
                "        print(dataframe.info())\n",
                "        print(dataframe.head())\n",
                "    return dataframe\n",
                "\n",
                "def display_analysis_categorical(dataframe):\n",
                "    \"\"\" Análisis de variables categóricas \"\"\"\n",
                "    fig, (ax1, ax2) = plt.subplots(1, 2, figsize=(15, 5))\n",
                "    sns.histplot(ax=ax1, data=dataframe, x='room_type', hue='room_type', multiple='stack', shrink=.8, palette='viridis')\n",
                "    sns.histplot(ax=ax2, data=dataframe, x='neighbourhood_group', hue='neighbourhood_group', multiple='stack', shrink=.8, palette='viridis').set_ylabel(None)\n",
                "    plt.tight_layout()\n",
                "    plt.show()\n",
                "\n",
                "    pd.crosstab(dataframe['room_type'], dataframe['neighbourhood_group'], normalize='index').plot(kind='bar', stacked=True)\n",
                "    plt.title(\"Room Type by Neighbourhood Group\")\n",
                "    plt.show()\n",
                "\n",
                "def display_analysis_numerical_values(dataframe: pd.DataFrame):\n",
                "    \"\"\" Análisis de variables numéricas \"\"\"\n",
                "    _, axis = plt.subplots(2, 2, figsize = (10, 7))\n",
                "    sns.histplot(ax = axis[0,0], data = dataframe, x = \"price\").set_ylabel(None)\n",
                "    sns.boxplot(ax = axis[1,0], data = dataframe, x = \"minimum_nights\").set_ylabel(None)\n",
                "    sns.histplot(ax = axis[0,1], data = dataframe, x = \"number_of_reviews\").set_ylabel(None)\n",
                "    sns.boxplot(ax = axis[1,1], data = dataframe, x = \"reviews_per_month\").set_ylabel(None)\n",
                "    plt.tight_layout()\n",
                "    plt.show()\n",
                "\n",
                "    sns.scatterplot(data=dataframe, x='price', y='minimum_nights')\n",
                "    plt.title(\"Price vs Minimum Nights\")\n",
                "    plt.show()\n",
                "\n",
                "def display_analysis_correlation(dataframe):\n",
                "    \"\"\" Análisis de correlación \"\"\"\n",
                "    _, axis = plt.subplots(1, 5, figsize = (15, 12))\n",
                "    sns.heatmap(dataframe.corr(numeric_only=True), annot=True, cmap='coolwarm', fmt=\".2f\", ax=axis[0])\n",
                "    sns.scatterplot(data=dataframe, x='number_of_reviews', y='reviews_per_month', ax=axis[1])\n",
                "    sns.scatterplot(data=dataframe, x='minimum_nights', y='price', ax=axis[2])\n",
                "    sns.boxplot(data=dataframe, x='room_type_n', y='price', ax=axis[3])\n",
                "    sns.scatterplot(data=dataframe, x='price', y='minimum_nights', hue='room_type', ax=axis[4])\n",
                "    plt.title(\"Correlation Matrix\")\n",
                "    plt.tight_layout()\n",
                "    plt.show()\n",
                "\n",
                "def remove_outliers(dataframe, column) -> pd.DataFrame:\n",
                "    \"\"\" Eliminar outliers \"\"\"\n",
                "    q1 = dataframe[column].quantile(0.25)\n",
                "    q3 = dataframe[column].quantile(0.75)\n",
                "    iqr = q3 - q1\n",
                "    lower_bound = q1 - 1.5 * iqr\n",
                "    upper_bound = q3 + 1.5 * iqr\n",
                "    return dataframe[(dataframe[column] >= lower_bound) & (dataframe[column] <= upper_bound)]\n",
                "\n",
                "\n",
                "dataframe = pd.read_csv('data/raw/AB_NYC_2019.csv', delimiter=',')\n",
                "\n",
                "print(dataframe.shape)\n",
                "print(dataframe.info())\n",
                "print(dataframe.describe())\n",
                "\n",
                "dataframe = delete_duplicate_values(dataframe)\n",
                "dataframe.loc[dataframe['number_of_reviews']==0, 'reviews_per_month'] = dataframe.loc[dataframe['number_of_reviews'] == 0, 'reviews_per_month'].fillna(0)\n",
                "dataframe['room_type_n'] = pd.factorize(dataframe['room_type'])[0]\n",
                "dataframe = remove_outliers(dataframe=dataframe, column=\"price\")\n",
                "dataframe = remove_outliers(dataframe=dataframe, column=\"minimum_nights\")\n",
                "dataframe = dataframe[dataframe['minimum_nights'] <= 15 ]\n",
                "dataframe = dataframe[dataframe['price'] > 0]\n",
                "\n",
                "dataframe = delete_irrelevant_information(dataframe)\n",
                "\n",
                "train_df, test_df = train_test_split(dataframe, test_size=0.2, random_state=42)\n",
                "\n",
                "train_df.to_csv('./data/processed/train_data.csv', index=False)\n",
                "test_df.to_csv('./data/processed/test_data.csv', index=False)\n"
            ]
        },
        {
            "cell_type": "code",
            "execution_count": null,
            "metadata": {},
            "outputs": [],
            "source": [
                "display_analysis_categorical(dataframe=dataframe)\n"
            ]
        },
        {
            "cell_type": "code",
            "execution_count": null,
            "metadata": {},
            "outputs": [],
            "source": [
                "display_analysis_correlation(dataframe)"
            ]
        },
        {
            "cell_type": "code",
            "execution_count": null,
            "metadata": {},
            "outputs": [],
            "source": [
                "display_analysis_numerical_values(dataframe=dataframe)"
            ]
        }
    ],
    "metadata": {
        "kernelspec": {
            "display_name": "Python 3.8.13 64-bit ('3.8.13')",
            "language": "python",
            "name": "python3"
        },
        "language_info": {
            "codemirror_mode": {
                "name": "ipython",
                "version": 3
            },
            "file_extension": ".py",
            "mimetype": "text/x-python",
            "name": "python",
            "nbconvert_exporter": "python",
            "pygments_lexer": "ipython3",
            "version": "3.8.13"
        },
        "orig_nbformat": 4,
        "vscode": {
            "interpreter": {
                "hash": "110cc1dee26208153f2972f08a2ad52b6a56238dc66d48e87fb757ef2996db56"
            }
        }
    },
    "nbformat": 4,
    "nbformat_minor": 2
}
